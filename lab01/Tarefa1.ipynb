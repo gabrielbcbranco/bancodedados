{
  "nbformat": 4,
  "nbformat_minor": 0,
  "metadata": {
    "colab": {
      "name": "Tarefa1.ipynb",
      "provenance": [],
      "authorship_tag": "ABX9TyObUNWVrSkBl0lk6HfkJT/1",
      "include_colab_link": true
    },
    "kernelspec": {
      "name": "python3",
      "display_name": "Python 3"
    }
  },
  "cells": [
    {
      "cell_type": "markdown",
      "metadata": {
        "id": "view-in-github",
        "colab_type": "text"
      },
      "source": [
        "<a href=\"https://colab.research.google.com/github/gabrielbcbranco/bancodedados/blob/master/lab01/Tarefa1.ipynb\" target=\"_parent\"><img src=\"https://colab.research.google.com/assets/colab-badge.svg\" alt=\"Open In Colab\"/></a>"
      ]
    },
    {
      "cell_type": "markdown",
      "metadata": {
        "id": "jJUEccsiatvy"
      },
      "source": [
        "#Tarefa 1\n",
        "Das fontes de dados disponíveis, tente encontrar fontes com formatos diferentes e importá-las via Python. Busque pelo menos dois formatos."
      ]
    },
    {
      "cell_type": "code",
      "metadata": {
        "id": "r4ScX5AJZmAB",
        "outputId": "560dfa5f-a0bc-42b9-9568-131a7daf5732",
        "colab": {
          "base_uri": "https://localhost:8080/",
          "height": 54
        }
      },
      "source": [
        "import io\n",
        "import requests\n",
        "import json\n",
        "url = \"https://servicodados.ibge.gov.br/api/v3/agregados?assunto=118\"\n",
        "js = requests.get(url).content\n",
        "print(js.decode(\"utf-8\"))"
      ],
      "execution_count": 1,
      "outputs": [
        {
          "output_type": "stream",
          "text": [
            "[{\"id\":\"IU\",\"nome\":\"Indicadores de Desenvolvimento Sustentável\",\"agregados\":[{\"id\":\"3735\",\"nome\":\"Razão de sexo (homens / mulheres) e razão de cor ou raça (branca / preta ou parda) do rendimento médio mensal da população, exclusive as informações das pessoas sem declaração de rendimento\"},{\"id\":\"3828\",\"nome\":\"Rendimento médio mensal nominal das pessoas de 10 anos ou mais de idade, com rendimento, por cor ou raça\"},{\"id\":\"3826\",\"nome\":\"Rendimento médio mensal nominal das pessoas de 10 anos ou mais de idade, com rendimento, por sexo\"},{\"id\":\"5795\",\"nome\":\"Rendimento médio mensal nominal das pessoas de 15 anos ou mais de idade, com rendimento, por cor ou raça\"},{\"id\":\"5794\",\"nome\":\"Rendimento médio mensal nominal das pessoas de 15 anos ou mais de idade, com rendimento, por sexo\"},{\"id\":\"1173\",\"nome\":\"Rendimento médio mensal real das pessoas de 10 anos ou mais de idade, com rendimento, por cor ou raça\"},{\"id\":\"1172\",\"nome\":\"Rendimento médio mensal real das pessoas de 10 anos ou mais de idade, com rendimento, por sexo\"},{\"id\":\"5799\",\"nome\":\"Rendimento médio mensal real das pessoas de 15 anos ou mais de idade, com rendimento, e respectivas razão de sexo e razão de cor ou raça\"},{\"id\":\"5798\",\"nome\":\"Rendimento médio mensal real das pessoas de 15 anos ou mais de idade, com rendimento, por cor ou raça\"},{\"id\":\"5797\",\"nome\":\"Rendimento médio mensal real das pessoas de 15 anos ou mais de idade, com rendimento, por sexo\"}]}]\n"
          ],
          "name": "stdout"
        }
      ]
    },
    {
      "cell_type": "code",
      "metadata": {
        "id": "GVrV5K5WazFv",
        "outputId": "5e85b574-85a8-47f7-e37e-233370a6e339",
        "colab": {
          "base_uri": "https://localhost:8080/",
          "height": 255
        }
      },
      "source": [
        "import pandas as pd\n",
        "import io\n",
        "import requests\n",
        "url = \"https://api.covidtracking.com/v1/us/daily.csv\"\n",
        "data = requests.get(url).content\n",
        "csv = pd.read_csv(io.StringIO(data.decode(\"utf-8\")))\n",
        "print(csv)"
      ],
      "execution_count": 2,
      "outputs": [
        {
          "output_type": "stream",
          "text": [
            "         date  ...                                      hash\n",
            "0    20200929  ...  565decbb3831dbfcc2ac9c6b8fbf88d2fe5cc746\n",
            "1    20200928  ...  f2a3389c7df86d5e33d8f57d8ff834596b342c13\n",
            "2    20200927  ...  19b8b285032c1ec14392f20904a8d0ac3d57dac2\n",
            "3    20200926  ...  16075f11d704d0c5befc819ae4a9a32f47069729\n",
            "4    20200925  ...  8d311e73fe038522a1a6be4bc3202de206ec0adb\n",
            "..        ...  ...                                       ...\n",
            "247  20200126  ...  88a196879207bd090a61fb515beb301e84377977\n",
            "248  20200125  ...  43330e2f11d476ebcdd85e1a47551958e4c1e7ea\n",
            "249  20200124  ...  5f7a0cce04041596513629d55777a16f3aa65e8b\n",
            "250  20200123  ...  53f6a5e3985cebdead7ca275b0890ef975f0ccdd\n",
            "251  20200122  ...  c4b5f0c9f5749c849b8a27d48be5c7619d1a3cb2\n",
            "\n",
            "[252 rows x 25 columns]\n"
          ],
          "name": "stdout"
        }
      ]
    }
  ]
}